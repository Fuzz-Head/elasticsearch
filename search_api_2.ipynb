{
 "cells": [
  {
   "cell_type": "code",
   "execution_count": 1,
   "metadata": {},
   "outputs": [
    {
     "name": "stdout",
     "output_type": "stream",
     "text": [
      "Connected to Elasticsearch!\n",
      "{'cluster_name': 'docker-cluster',\n",
      " 'cluster_uuid': 'tdRTedevS6WZDfd1oEOoeQ',\n",
      " 'name': 'd3f17afee3cf',\n",
      " 'tagline': 'You Know, for Search',\n",
      " 'version': {'build_date': '2025-01-10T10:08:26.972230187Z',\n",
      "             'build_flavor': 'default',\n",
      "             'build_hash': 'd4b391d925c31d262eb767b8b2db8f398103f909',\n",
      "             'build_snapshot': False,\n",
      "             'build_type': 'docker',\n",
      "             'lucene_version': '9.12.0',\n",
      "             'minimum_index_compatibility_version': '7.0.0',\n",
      "             'minimum_wire_compatibility_version': '7.17.0',\n",
      "             'number': '8.17.1'}}\n"
     ]
    }
   ],
   "source": [
    "from pprint import pprint \n",
    "from elasticsearch import Elasticsearch \n",
    "\n",
    "es = Elasticsearch('http://localhost:9200')\n",
    "client_info = es.info()\n",
    "print('Connected to Elasticsearch!')\n",
    "pprint(client_info.body)"
   ]
  },
  {
   "cell_type": "code",
   "execution_count": 2,
   "metadata": {},
   "outputs": [
    {
     "data": {
      "text/plain": [
       "ObjectApiResponse({'acknowledged': True, 'shards_acknowledged': True, 'index': 'products'})"
      ]
     },
     "execution_count": 2,
     "metadata": {},
     "output_type": "execute_result"
    }
   ],
   "source": [
    "es.indices.delete(index='products', ignore_unavailable=True)\n",
    "es.indices.create(index='products')"
   ]
  },
  {
   "cell_type": "code",
   "execution_count": 5,
   "metadata": {},
   "outputs": [
    {
     "name": "stderr",
     "output_type": "stream",
     "text": [
      "100%|██████████| 3/3 [00:00<00:00, 31.90it/s]\n"
     ]
    }
   ],
   "source": [
    "import json\n",
    "from tqdm import tqdm\n",
    "\n",
    "dummy_data = json.load(open(\"data/dummy_data.json\"))\n",
    "for document in tqdm(dummy_data, total=len(dummy_data)):\n",
    "    response = es.index(index='products', body=document)"
   ]
  },
  {
   "cell_type": "markdown",
   "metadata": {},
   "source": [
    "### Leaf clauses "
   ]
  },
  {
   "cell_type": "code",
   "execution_count": 6,
   "metadata": {},
   "outputs": [
    {
     "name": "stdout",
     "output_type": "stream",
     "text": [
      "Found 1 documents in products\n"
     ]
    }
   ],
   "source": [
    "# term query \n",
    "\n",
    "response = es.search(\n",
    "    index='products',\n",
    "    body={\n",
    "        \"query\":{\n",
    "            \"term\":{\n",
    "                \"created_on\": \"2024-09-22\"\n",
    "            }\n",
    "        }\n",
    "    }\n",
    ")\n",
    "\n",
    "n_hits = response['hits']['total']['value']\n",
    "print(f\"Found {n_hits} documents in products\")"
   ]
  },
  {
   "cell_type": "code",
   "execution_count": null,
   "metadata": {},
   "outputs": [
    {
     "data": {
      "text/plain": [
       "[{'_index': 'products',\n",
       "  '_id': 'CkXV-JQBqAMUwyyAyxUk',\n",
       "  '_score': 1.0,\n",
       "  '_source': {'title': 'Sample Title 1',\n",
       "   'text': 'This is the first sample document text.',\n",
       "   'created_on': '2024-09-22'}}]"
      ]
     },
     "execution_count": 7,
     "metadata": {},
     "output_type": "execute_result"
    }
   ],
   "source": [
    "retrived_documents = response['hits']['hits']\n",
    "retrived_documents"
   ]
  },
  {
   "cell_type": "code",
   "execution_count": 8,
   "metadata": {},
   "outputs": [
    {
     "name": "stdout",
     "output_type": "stream",
     "text": [
      "Found 3 documents in products\n"
     ]
    }
   ],
   "source": [
    "# match query \n",
    "\n",
    "response = es.search(\n",
    "    index='products',\n",
    "    body={\n",
    "        \"query\":{\n",
    "            \"match\":{\n",
    "                \"text\": \"document\"\n",
    "            }\n",
    "        }\n",
    "    }\n",
    ")\n",
    "\n",
    "n_hits = response['hits']['total']['value']\n",
    "print(f\"Found {n_hits} documents in products\")"
   ]
  },
  {
   "cell_type": "code",
   "execution_count": 9,
   "metadata": {},
   "outputs": [
    {
     "data": {
      "text/plain": [
       "[{'_index': 'products',\n",
       "  '_id': 'CkXV-JQBqAMUwyyAyxUk',\n",
       "  '_score': 0.13606146,\n",
       "  '_source': {'title': 'Sample Title 1',\n",
       "   'text': 'This is the first sample document text.',\n",
       "   'created_on': '2024-09-22'}},\n",
       " {'_index': 'products',\n",
       "  '_id': 'C0XV-JQBqAMUwyyAyxVg',\n",
       "  '_score': 0.13606146,\n",
       "  '_source': {'title': 'Sample Title 2',\n",
       "   'text': 'Here is another example of a document.',\n",
       "   'created_on': '2024-09-24'}},\n",
       " {'_index': 'products',\n",
       "  '_id': 'DEXV-JQBqAMUwyyAyxV2',\n",
       "  '_score': 0.12874341,\n",
       "  '_source': {'title': 'Sample Title 3',\n",
       "   'text': 'The content of the third document goes here.',\n",
       "   'created_on': '2024-09-24'}}]"
      ]
     },
     "execution_count": 9,
     "metadata": {},
     "output_type": "execute_result"
    }
   ],
   "source": [
    "retrived_documents = response['hits']['hits']\n",
    "retrived_documents"
   ]
  },
  {
   "cell_type": "code",
   "execution_count": 10,
   "metadata": {},
   "outputs": [
    {
     "name": "stdout",
     "output_type": "stream",
     "text": [
      "Found 1 documents in products\n"
     ]
    }
   ],
   "source": [
    "# range query \n",
    "\n",
    "response = es.search(\n",
    "    index='products',\n",
    "    body={\n",
    "        \"query\":{\n",
    "            \"range\":{\n",
    "                \"created_on\":{\n",
    "                    \"lte\": \"2024-09-23\"\n",
    "                }\n",
    "            }\n",
    "        }\n",
    "    }\n",
    ")\n",
    "\n",
    "n_hits = response['hits']['total']['value']\n",
    "print(f\"Found {n_hits} documents in products\")"
   ]
  },
  {
   "cell_type": "code",
   "execution_count": 11,
   "metadata": {},
   "outputs": [
    {
     "data": {
      "text/plain": [
       "[{'_index': 'products',\n",
       "  '_id': 'CkXV-JQBqAMUwyyAyxUk',\n",
       "  '_score': 1.0,\n",
       "  '_source': {'title': 'Sample Title 1',\n",
       "   'text': 'This is the first sample document text.',\n",
       "   'created_on': '2024-09-22'}}]"
      ]
     },
     "execution_count": 11,
     "metadata": {},
     "output_type": "execute_result"
    }
   ],
   "source": [
    "retrived_documents = response['hits']['hits']\n",
    "retrived_documents"
   ]
  },
  {
   "cell_type": "markdown",
   "metadata": {},
   "source": [
    "### compound clauses "
   ]
  },
  {
   "cell_type": "code",
   "execution_count": 13,
   "metadata": {},
   "outputs": [
    {
     "name": "stdout",
     "output_type": "stream",
     "text": [
      "Found 1 documents in products\n"
     ]
    }
   ],
   "source": [
    "response = es.search(\n",
    "    index='products',\n",
    "    body={\n",
    "        \"query\":{\n",
    "            \"bool\":{\n",
    "                \"must\": [\n",
    "                    {\n",
    "                        \"match\": {\n",
    "                            \"text\": \"third\"\n",
    "                        }\n",
    "                    },\n",
    "                    {\n",
    "                        \"range\":{\n",
    "                            \"created_on\":{\n",
    "                                \"gte\": \"2024-09-24\",\n",
    "                                \"lte\": \"2024-09-24\"\n",
    "                            }\n",
    "                        }\n",
    "                    }\n",
    "                ]\n",
    "            }\n",
    "        }\n",
    "    }\n",
    ")\n",
    "\n",
    "n_hits = response['hits']['total']['value']\n",
    "print(f\"Found {n_hits} documents in products\")"
   ]
  },
  {
   "cell_type": "code",
   "execution_count": 14,
   "metadata": {},
   "outputs": [
    {
     "data": {
      "text/plain": [
       "[{'_index': 'products',\n",
       "  '_id': 'DEXV-JQBqAMUwyyAyxV2',\n",
       "  '_score': 1.94566,\n",
       "  '_source': {'title': 'Sample Title 3',\n",
       "   'text': 'The content of the third document goes here.',\n",
       "   'created_on': '2024-09-24'}}]"
      ]
     },
     "execution_count": 14,
     "metadata": {},
     "output_type": "execute_result"
    }
   ],
   "source": [
    "retrived_documents = response['hits']['hits']\n",
    "retrived_documents"
   ]
  }
 ],
 "metadata": {
  "kernelspec": {
   "display_name": "python3-elasticsearch",
   "language": "python",
   "name": "python3"
  },
  "language_info": {
   "codemirror_mode": {
    "name": "ipython",
    "version": 3
   },
   "file_extension": ".py",
   "mimetype": "text/x-python",
   "name": "python",
   "nbconvert_exporter": "python",
   "pygments_lexer": "ipython3",
   "version": "3.10.12"
  }
 },
 "nbformat": 4,
 "nbformat_minor": 2
}

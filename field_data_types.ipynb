{
 "cells": [
  {
   "cell_type": "code",
   "execution_count": 51,
   "metadata": {},
   "outputs": [
    {
     "name": "stdout",
     "output_type": "stream",
     "text": [
      "Connected to Elasticsearch!\n",
      "{'cluster_name': 'docker-cluster',\n",
      " 'cluster_uuid': 'tdRTedevS6WZDfd1oEOoeQ',\n",
      " 'name': 'd3f17afee3cf',\n",
      " 'tagline': 'You Know, for Search',\n",
      " 'version': {'build_date': '2025-01-10T10:08:26.972230187Z',\n",
      "             'build_flavor': 'default',\n",
      "             'build_hash': 'd4b391d925c31d262eb767b8b2db8f398103f909',\n",
      "             'build_snapshot': False,\n",
      "             'build_type': 'docker',\n",
      "             'lucene_version': '9.12.0',\n",
      "             'minimum_index_compatibility_version': '7.0.0',\n",
      "             'minimum_wire_compatibility_version': '7.17.0',\n",
      "             'number': '8.17.1'}}\n"
     ]
    }
   ],
   "source": [
    "from pprint import pprint \n",
    "from elasticsearch import Elasticsearch\n",
    "\n",
    "es = Elasticsearch('http://localhost:9200')\n",
    "client_info = es.info()\n",
    "print('Connected to Elasticsearch!')\n",
    "pprint(client_info.body)"
   ]
  },
  {
   "cell_type": "code",
   "execution_count": 52,
   "metadata": {},
   "outputs": [
    {
     "data": {
      "text/plain": [
       "ObjectApiResponse({'acknowledged': True, 'shards_acknowledged': True, 'index': 'binary_index'})"
      ]
     },
     "execution_count": 52,
     "metadata": {},
     "output_type": "execute_result"
    }
   ],
   "source": [
    "#binary \n",
    "\n",
    "es.indices.delete(index='binary_index', ignore_unavailable=True)\n",
    "es.indices.create(\n",
    "    index='binary_index',\n",
    "    mappings={\n",
    "        \"properties\": {\n",
    "            \"image_data\": {\n",
    "                \"type\": \"binary\"\n",
    "            }\n",
    "        }\n",
    "    }\n",
    ")"
   ]
  },
  {
   "cell_type": "code",
   "execution_count": 53,
   "metadata": {},
   "outputs": [
    {
     "data": {
      "text/plain": [
       "'iVBORw0KGgoAAAANSUhEUgAAB4AAAAJTCAIAAABmUpy3AAAgAElEQVR4AeydD1xUVd7/b798anpyt2lrd6dn3c0ptyfatkeKRMo0'"
      ]
     },
     "execution_count": 53,
     "metadata": {},
     "output_type": "execute_result"
    }
   ],
   "source": [
    "import base64\n",
    "\n",
    "image_path = \"images/field_data_types_docs.png\"\n",
    "with open(image_path, \"rb\") as image_file:\n",
    "    image_bytes = image_file.read()\n",
    "    image_base64 = base64.b64encode(image_bytes).decode(\"utf-8\")\n",
    "    \n",
    "image_base64[:100]"
   ]
  },
  {
   "cell_type": "code",
   "execution_count": 54,
   "metadata": {},
   "outputs": [
    {
     "data": {
      "text/plain": [
       "ObjectApiResponse({'_index': 'binary_index', '_id': 'Exq085QB7xzWnT7Wk4or', '_version': 1, 'result': 'created', '_shards': {'total': 2, 'successful': 1, 'failed': 0}, '_seq_no': 0, '_primary_term': 1})"
      ]
     },
     "execution_count": 54,
     "metadata": {},
     "output_type": "execute_result"
    }
   ],
   "source": [
    "document = {\n",
    "    \"image_data\": image_base64\n",
    "}\n",
    "\n",
    "response = es.index(index='binary_index', body=document)\n",
    "response"
   ]
  },
  {
   "cell_type": "code",
   "execution_count": 55,
   "metadata": {},
   "outputs": [
    {
     "data": {
      "text/plain": [
       "ObjectApiResponse({'acknowledged': True, 'shards_acknowledged': True, 'index': 'other_common_data_types_index'})"
      ]
     },
     "execution_count": 55,
     "metadata": {},
     "output_type": "execute_result"
    }
   ],
   "source": [
    "#others \n",
    "\n",
    "es.indices.delete(index='other_common_data_types_index',\n",
    "                  ignore_unavailable=True)\n",
    "\n",
    "es.indices.create(\n",
    "    index='other_common_data_types_index',\n",
    "    mappings={\n",
    "        \"properties\":{\n",
    "            \"book_reference\": {\n",
    "                \"type\": \"keyword\"\n",
    "            },\n",
    "            \"price\": {\n",
    "                \"type\": \"float\"\n",
    "            },\n",
    "            \"publish_date\": {\n",
    "                \"type\": \"date\"\n",
    "            },\n",
    "            \"is_available\": {\n",
    "                \"type\": \"boolean\"\n",
    "            },\n",
    "        }\n",
    "    }\n",
    ")"
   ]
  },
  {
   "cell_type": "code",
   "execution_count": 56,
   "metadata": {},
   "outputs": [
    {
     "data": {
      "text/plain": [
       "ObjectApiResponse({'_index': 'other_common_data_types_index', '_id': 'FBq085QB7xzWnT7WlIo5', '_version': 1, 'result': 'created', '_shards': {'total': 2, 'successful': 1, 'failed': 0}, '_seq_no': 0, '_primary_term': 1})"
      ]
     },
     "execution_count": 56,
     "metadata": {},
     "output_type": "execute_result"
    }
   ],
   "source": [
    "document = {\n",
    "    \"book_reference\": \"978-1617294433\",\n",
    "    \"price\": 44.99,\n",
    "    \"publish_date\": \"2021-06-30\",\n",
    "    \"is_avaialble\": True\n",
    "}\n",
    "\n",
    "response = es.index(index='other_common_data_types_index', body=document)\n",
    "response"
   ]
  },
  {
   "cell_type": "code",
   "execution_count": 57,
   "metadata": {},
   "outputs": [
    {
     "data": {
      "text/plain": [
       "ObjectApiResponse({'acknowledged': True, 'shards_acknowledged': True, 'index': 'object_index'})"
      ]
     },
     "execution_count": 57,
     "metadata": {},
     "output_type": "execute_result"
    }
   ],
   "source": [
    "# object \n",
    "\n",
    "es.indices.delete(index='object_index', ignore_unavailable=True)\n",
    "es.indices.create(\n",
    "    index='object_index',\n",
    "    mappings={\n",
    "        \"properties\":{\n",
    "            \"author\":{\n",
    "                \"properties\":{\n",
    "                    \"first_name\":{\n",
    "                        \"type\":\"text\"\n",
    "                    },\n",
    "                    \"last_name\":{\n",
    "                        \"type\":\"text\"\n",
    "                    }\n",
    "                }\n",
    "            }\n",
    "        }\n",
    "    }\n",
    ")"
   ]
  },
  {
   "cell_type": "code",
   "execution_count": 58,
   "metadata": {},
   "outputs": [
    {
     "data": {
      "text/plain": [
       "ObjectApiResponse({'_index': 'object_index', '_id': 'FRq085QB7xzWnT7WlYpS', '_version': 1, 'result': 'created', '_shards': {'total': 2, 'successful': 1, 'failed': 0}, '_seq_no': 0, '_primary_term': 1})"
      ]
     },
     "execution_count": 58,
     "metadata": {},
     "output_type": "execute_result"
    }
   ],
   "source": [
    "document = {\n",
    "    \"author\": {\n",
    "        \"first_name\": \"fuzz\",\n",
    "        \"last_name\": \"head\"\n",
    "    }\n",
    "}\n",
    "\n",
    "response = es.index(index='object_index', body=document)\n",
    "response"
   ]
  },
  {
   "cell_type": "code",
   "execution_count": 59,
   "metadata": {},
   "outputs": [
    {
     "data": {
      "text/plain": [
       "ObjectApiResponse({'acknowledged': True, 'shards_acknowledged': True, 'index': 'flattened_object_index'})"
      ]
     },
     "execution_count": 59,
     "metadata": {},
     "output_type": "execute_result"
    }
   ],
   "source": [
    "\n",
    "es.indices.delete(index='flattened_object_index', ignore_unavailable=True)\n",
    "es.indices.create(\n",
    "    index='flattened_object_index',\n",
    "    mappings={\n",
    "        \"properties\":{\n",
    "            \"author\":{\n",
    "                \"type\":\"flattened\"\n",
    "            }\n",
    "        }\n",
    "    }\n",
    ")"
   ]
  },
  {
   "cell_type": "code",
   "execution_count": 60,
   "metadata": {},
   "outputs": [
    {
     "data": {
      "text/plain": [
       "ObjectApiResponse({'_index': 'flattened_object_index', '_id': 'Fhq085QB7xzWnT7Wloo8', '_version': 1, 'result': 'created', '_shards': {'total': 2, 'successful': 1, 'failed': 0}, '_seq_no': 0, '_primary_term': 1})"
      ]
     },
     "execution_count": 60,
     "metadata": {},
     "output_type": "execute_result"
    }
   ],
   "source": [
    "document = {\n",
    "    \"author\": {\n",
    "        \"first_name\": \"fuzz\",\n",
    "        \"last_name\": \"head\"\n",
    "    }\n",
    "}\n",
    "\n",
    "response = es.index(index='flattened_object_index', body=document)\n",
    "response"
   ]
  },
  {
   "cell_type": "code",
   "execution_count": 61,
   "metadata": {},
   "outputs": [
    {
     "data": {
      "text/plain": [
       "ObjectApiResponse({'acknowledged': True, 'shards_acknowledged': True, 'index': 'nested_object_index'})"
      ]
     },
     "execution_count": 61,
     "metadata": {},
     "output_type": "execute_result"
    }
   ],
   "source": [
    "# nested \n",
    "\n",
    "es.indices.delete(index='nested_object_index', ignore_unavailable=True)\n",
    "es.indices.create(\n",
    "    index='nested_object_index',\n",
    "    mappings={\n",
    "        \"properties\":{\n",
    "            \"user\":{\n",
    "                \"type\":\"nested\"\n",
    "            }\n",
    "        }\n",
    "    }\n",
    ")"
   ]
  },
  {
   "cell_type": "code",
   "execution_count": 62,
   "metadata": {},
   "outputs": [
    {
     "data": {
      "text/plain": [
       "ObjectApiResponse({'_index': 'nested_object_index', '_id': 'Fxq085QB7xzWnT7Wl4pI', '_version': 1, 'result': 'created', '_shards': {'total': 2, 'successful': 1, 'failed': 0}, '_seq_no': 0, '_primary_term': 1})"
      ]
     },
     "execution_count": 62,
     "metadata": {},
     "output_type": "execute_result"
    }
   ],
   "source": [
    "document = [\n",
    "    {\n",
    "        \"first\": \"John\",\n",
    "        \"last\": \"Doe\"\n",
    "    },\n",
    "    {\n",
    "        \"first\": \"fuzz\",\n",
    "        \"last\": \"head\"\n",
    "    }\n",
    "]\n",
    "\n",
    "response = es.index(index='nested_object_index', body={\"user\": document})\n",
    "response "
   ]
  },
  {
   "cell_type": "code",
   "execution_count": 63,
   "metadata": {},
   "outputs": [
    {
     "data": {
      "text/plain": [
       "ObjectApiResponse({'acknowledged': True, 'shards_acknowledged': True, 'index': 'text_index'})"
      ]
     },
     "execution_count": 63,
     "metadata": {},
     "output_type": "execute_result"
    }
   ],
   "source": [
    "# text \n",
    "\n",
    "es.indices.delete(index='text_index', ignore_unavailable=True)\n",
    "es.indices.create(\n",
    "    index='text_index',\n",
    "    mappings={\n",
    "        \"properties\": {\n",
    "            \"email_body\":{\n",
    "                \"type\": \"text\"\n",
    "            }\n",
    "        }\n",
    "    }\n",
    ")"
   ]
  },
  {
   "cell_type": "code",
   "execution_count": 64,
   "metadata": {},
   "outputs": [
    {
     "data": {
      "text/plain": [
       "ObjectApiResponse({'_index': 'text_index', '_id': 'GBq085QB7xzWnT7WmIqn', '_version': 1, 'result': 'created', '_shards': {'total': 2, 'successful': 1, 'failed': 0}, '_seq_no': 0, '_primary_term': 1})"
      ]
     },
     "execution_count": 64,
     "metadata": {},
     "output_type": "execute_result"
    }
   ],
   "source": [
    "document = {\n",
    "    \"email_body\": \"hello, this is a test mail.\"\n",
    "}\n",
    "\n",
    "response = es.index(index='text_index', body=document)\n",
    "response "
   ]
  },
  {
   "cell_type": "code",
   "execution_count": 65,
   "metadata": {},
   "outputs": [
    {
     "data": {
      "text/plain": [
       "ObjectApiResponse({'acknowledged': True, 'shards_acknowledged': True, 'index': 'text_completion_index'})"
      ]
     },
     "execution_count": 65,
     "metadata": {},
     "output_type": "execute_result"
    }
   ],
   "source": [
    "# completion \n",
    "\n",
    "es.indices.delete(index='text_completion_index', ignore_unavailable=True)\n",
    "es.indices.create(\n",
    "    index='text_completion_index',\n",
    "    mappings={\n",
    "        \"properties\": {\n",
    "            \"suggest\":{\n",
    "                \"type\": \"completion\"\n",
    "            }\n",
    "        }\n",
    "    }\n",
    ")"
   ]
  },
  {
   "cell_type": "code",
   "execution_count": 66,
   "metadata": {},
   "outputs": [
    {
     "data": {
      "text/plain": [
       "ObjectApiResponse({'_index': 'text_completion_index', '_id': 'Ghq085QB7xzWnT7WmYq7', '_version': 1, 'result': 'created', '_shards': {'total': 2, 'successful': 1, 'failed': 0}, '_seq_no': 1, '_primary_term': 1})"
      ]
     },
     "execution_count": 66,
     "metadata": {},
     "output_type": "execute_result"
    }
   ],
   "source": [
    "document_1 = {\n",
    "    \"suggest\":{\n",
    "        \"input\": [\"Mars\", \"Planet\"]\n",
    "    }\n",
    "}\n",
    "\n",
    "document_2 = {\n",
    "    \"suggest\":{\n",
    "        \"input\": [\"Andromeda\", \"Galaxy\"]\n",
    "    }\n",
    "}\n",
    "\n",
    "es.index(index='text_completion_index', body=document_1)\n",
    "es.index(index='text_completion_index', body=document_2)"
   ]
  },
  {
   "cell_type": "code",
   "execution_count": 67,
   "metadata": {},
   "outputs": [
    {
     "data": {
      "text/plain": [
       "ObjectApiResponse({'acknowledged': True, 'shards_acknowledged': True, 'index': 'geo_point_index'})"
      ]
     },
     "execution_count": 67,
     "metadata": {},
     "output_type": "execute_result"
    }
   ],
   "source": [
    "# spatial \n",
    "\n",
    "es.indices.delete(index='geo_point_index', ignore_unavailable=True)\n",
    "es.indices.create(\n",
    "    index='geo_point_index',\n",
    "    mappings={\n",
    "        \"properties\":{\n",
    "            \"location\":{\n",
    "                \"type\": \"geo_point\"\n",
    "            }\n",
    "        }\n",
    "    }\n",
    ")"
   ]
  },
  {
   "cell_type": "code",
   "execution_count": 68,
   "metadata": {},
   "outputs": [
    {
     "data": {
      "text/plain": [
       "ObjectApiResponse({'_index': 'geo_point_index', '_id': 'Gxq085QB7xzWnT7Wmorl', '_version': 1, 'result': 'created', '_shards': {'total': 2, 'successful': 1, 'failed': 0}, '_seq_no': 0, '_primary_term': 1})"
      ]
     },
     "execution_count": 68,
     "metadata": {},
     "output_type": "execute_result"
    }
   ],
   "source": [
    "document = {\n",
    "    \"text\": \"Geopoint as an object using GeoJSON format\",\n",
    "    \"location\": {\n",
    "        \"type\": \"Point\",\n",
    "        \"coordinates\": [\n",
    "            -71.34,\n",
    "            54.33\n",
    "        ]\n",
    "    }\n",
    "}\n",
    "\n",
    "response = es.index(index='geo_point_index', body=document)\n",
    "response"
   ]
  },
  {
   "cell_type": "code",
   "execution_count": 69,
   "metadata": {},
   "outputs": [
    {
     "data": {
      "text/plain": [
       "ObjectApiResponse({'acknowledged': True, 'shards_acknowledged': True, 'index': 'geo_shape_index'})"
      ]
     },
     "execution_count": 69,
     "metadata": {},
     "output_type": "execute_result"
    }
   ],
   "source": [
    "# geo shape \n",
    "\n",
    "es.indices.delete(index='geo_shape_index', ignore_unavailable=True)\n",
    "es.indices.create(\n",
    "    index='geo_shape_index',\n",
    "    mappings={\n",
    "        \"properties\":{\n",
    "            \"location\":{\n",
    "                \"type\": \"geo_shape\"\n",
    "            }\n",
    "        }\n",
    "    }\n",
    ")"
   ]
  },
  {
   "cell_type": "code",
   "execution_count": 70,
   "metadata": {},
   "outputs": [
    {
     "data": {
      "text/plain": [
       "ObjectApiResponse({'_index': 'geo_shape_index', '_id': 'HRq085QB7xzWnT7WnIoQ', '_version': 1, 'result': 'created', '_shards': {'total': 2, 'successful': 1, 'failed': 0}, '_seq_no': 1, '_primary_term': 1})"
      ]
     },
     "execution_count": 70,
     "metadata": {},
     "output_type": "execute_result"
    }
   ],
   "source": [
    "document_1 = { \n",
    "    \"location\":{\n",
    "        \"type\": \"Polygon\",\n",
    "        \"coordinates\": [\n",
    "            [\n",
    "                [100, 0],\n",
    "                [101, 0],\n",
    "                [101, 1],\n",
    "                [100, 1],\n",
    "                [100, 0],\n",
    "            ],\n",
    "            [\n",
    "                [100.2, 0.2],\n",
    "                [100.8, 0.2],\n",
    "                [100.8, 0.8],\n",
    "                [100.2, 0.8],\n",
    "                [100.2, 0.2],\n",
    "            ]\n",
    "        ]\n",
    "    }\n",
    "}\n",
    "\n",
    "document_2 = { \n",
    "    \"location\":{\n",
    "        \"type\": \"LineString\",\n",
    "        \"coordinates\": [\n",
    "            [\n",
    "                -77.03653,\n",
    "                38.897676\n",
    "            ],\n",
    "            [\n",
    "                -77.009051,\n",
    "                38.889939\n",
    "            ]\n",
    "        ]\n",
    "    }\n",
    "}\n",
    "\n",
    "es.index(index='geo_shape_index', body=document_1)\n",
    "es.index(index='geo_shape_index', body=document_2)"
   ]
  },
  {
   "cell_type": "code",
   "execution_count": 71,
   "metadata": {},
   "outputs": [
    {
     "data": {
      "text/plain": [
       "ObjectApiResponse({'acknowledged': True, 'shards_acknowledged': True, 'index': 'point_index'})"
      ]
     },
     "execution_count": 71,
     "metadata": {},
     "output_type": "execute_result"
    }
   ],
   "source": [
    "\n",
    "# point\n",
    "\n",
    "es.indices.delete(index='point_index', ignore_unavailable=True)\n",
    "es.indices.create(\n",
    "    index='point_index',\n",
    "    mappings={\n",
    "        \"properties\":{\n",
    "            \"location\":{\n",
    "                \"type\": \"point\"\n",
    "            }\n",
    "        }\n",
    "    }\n",
    ")"
   ]
  },
  {
   "cell_type": "code",
   "execution_count": 72,
   "metadata": {},
   "outputs": [
    {
     "data": {
      "text/plain": [
       "ObjectApiResponse({'_index': 'point_index', '_id': 'Hhq085QB7xzWnT7WnYoO', '_version': 1, 'result': 'created', '_shards': {'total': 2, 'successful': 1, 'failed': 0}, '_seq_no': 0, '_primary_term': 1})"
      ]
     },
     "execution_count": 72,
     "metadata": {},
     "output_type": "execute_result"
    }
   ],
   "source": [
    "document = {\n",
    "    \"location\": {\n",
    "        \"type\": \"Point\",\n",
    "        \"coordinates\": [\n",
    "            -71.45,\n",
    "            40.12\n",
    "        ]\n",
    "    }\n",
    "}\n",
    "\n",
    "response = es.index(index='point_index', body=document)\n",
    "response"
   ]
  }
 ],
 "metadata": {
  "kernelspec": {
   "display_name": "python3-elasticsearch",
   "language": "python",
   "name": "python3"
  },
  "language_info": {
   "codemirror_mode": {
    "name": "ipython",
    "version": 3
   },
   "file_extension": ".py",
   "mimetype": "text/x-python",
   "name": "python",
   "nbconvert_exporter": "python",
   "pygments_lexer": "ipython3",
   "version": "3.10.12"
  }
 },
 "nbformat": 4,
 "nbformat_minor": 2
}

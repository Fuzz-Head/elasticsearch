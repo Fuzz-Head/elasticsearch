{
 "cells": [
  {
   "cell_type": "code",
   "execution_count": 1,
   "metadata": {},
   "outputs": [
    {
     "name": "stdout",
     "output_type": "stream",
     "text": [
      "Connected to Elasticsearch!\n",
      "{'cluster_name': 'docker-cluster',\n",
      " 'cluster_uuid': 'tdRTedevS6WZDfd1oEOoeQ',\n",
      " 'name': 'd3f17afee3cf',\n",
      " 'tagline': 'You Know, for Search',\n",
      " 'version': {'build_date': '2025-01-10T10:08:26.972230187Z',\n",
      "             'build_flavor': 'default',\n",
      "             'build_hash': 'd4b391d925c31d262eb767b8b2db8f398103f909',\n",
      "             'build_snapshot': False,\n",
      "             'build_type': 'docker',\n",
      "             'lucene_version': '9.12.0',\n",
      "             'minimum_index_compatibility_version': '7.0.0',\n",
      "             'minimum_wire_compatibility_version': '7.17.0',\n",
      "             'number': '8.17.1'}}\n"
     ]
    }
   ],
   "source": [
    "from pprint import pprint \n",
    "from elasticsearch import Elasticsearch\n",
    "\n",
    "es= Elasticsearch('http://localhost:9200')\n",
    "client_info = es.info()\n",
    "print('Connected to Elasticsearch!')\n",
    "pprint(client_info.body)"
   ]
  },
  {
   "cell_type": "code",
   "execution_count": 2,
   "metadata": {},
   "outputs": [
    {
     "data": {
      "text/plain": [
       "ObjectApiResponse({'acknowledged': True, 'shards_acknowledged': True, 'index': 'products'})"
      ]
     },
     "execution_count": 2,
     "metadata": {},
     "output_type": "execute_result"
    }
   ],
   "source": [
    "es.indices.delete(index='products', ignore_unavailable=True)\n",
    "es.indices.create(index='products')"
   ]
  },
  {
   "cell_type": "code",
   "execution_count": 3,
   "metadata": {},
   "outputs": [
    {
     "name": "stderr",
     "output_type": "stream",
     "text": [
      "100%|██████████| 3/3 [00:00<00:00, 36.78it/s]\n"
     ]
    }
   ],
   "source": [
    "import json \n",
    "from tqdm import tqdm \n",
    "\n",
    "document_ids = [] \n",
    "dummy_data = json.load(open(\"data/dummy_data.json\"))\n",
    "for document in tqdm(dummy_data, total=len(dummy_data)):\n",
    "    response = es.index(index='products', body=document)\n",
    "    document_ids.append(response['_id'])"
   ]
  },
  {
   "cell_type": "code",
   "execution_count": 4,
   "metadata": {},
   "outputs": [
    {
     "name": "stdout",
     "output_type": "stream",
     "text": [
      "{'_id': 'QAWF9JQBIRImumIuuzMO',\n",
      " '_index': 'products',\n",
      " '_primary_term': 1,\n",
      " '_seq_no': 3,\n",
      " '_shards': {'failed': 0, 'successful': 1, 'total': 2},\n",
      " '_version': 2,\n",
      " 'result': 'updated'}\n"
     ]
    }
   ],
   "source": [
    "# without bulk api \n",
    "\n",
    "from pprint import pprint \n",
    "\n",
    "response = es.update(\n",
    "    index='products',\n",
    "    id=document_ids[0],\n",
    "    script={\n",
    "        \"source\": \"ctx._source.title = params.title\",\n",
    "        \"params\":{\n",
    "            \"title\": \"new title\"\n",
    "        }\n",
    "    },\n",
    ")\n",
    "\n",
    "pprint(response.body)"
   ]
  },
  {
   "cell_type": "code",
   "execution_count": 5,
   "metadata": {},
   "outputs": [
    {
     "name": "stdout",
     "output_type": "stream",
     "text": [
      "{'_id': 'QQWF9JQBIRImumIuuzNI',\n",
      " '_index': 'products',\n",
      " '_primary_term': 1,\n",
      " '_seq_no': 4,\n",
      " '_shards': {'failed': 0, 'successful': 1, 'total': 2},\n",
      " '_version': 2,\n",
      " 'result': 'updated'}\n"
     ]
    }
   ],
   "source": [
    "response = es.update(\n",
    "    index='products',\n",
    "    id=document_ids[1],\n",
    "    script={\n",
    "        \"source\": \"ctx._source.new_field = 'dummy_value'\",\n",
    "    },\n",
    ")\n",
    "pprint(response.body)"
   ]
  },
  {
   "cell_type": "code",
   "execution_count": 6,
   "metadata": {},
   "outputs": [
    {
     "name": "stdout",
     "output_type": "stream",
     "text": [
      "{'_id': 'QgWF9JQBIRImumIuuzNX',\n",
      " '_index': 'products',\n",
      " '_primary_term': 1,\n",
      " '_seq_no': 5,\n",
      " '_shards': {'failed': 0, 'successful': 1, 'total': 2},\n",
      " '_version': 2,\n",
      " 'result': 'deleted'}\n"
     ]
    }
   ],
   "source": [
    "response = es.delete(index='products', id=document_ids[2])\n",
    "pprint(response.body)"
   ]
  },
  {
   "cell_type": "code",
   "execution_count": 7,
   "metadata": {},
   "outputs": [
    {
     "data": {
      "text/plain": [
       "ObjectApiResponse({'acknowledged': True, 'shards_acknowledged': True, 'index': 'products'})"
      ]
     },
     "execution_count": 7,
     "metadata": {},
     "output_type": "execute_result"
    }
   ],
   "source": [
    "es.indices.delete(index='products', ignore_unavailable=True)\n",
    "es.indices.create(index='products')"
   ]
  },
  {
   "cell_type": "code",
   "execution_count": 8,
   "metadata": {},
   "outputs": [
    {
     "name": "stdout",
     "output_type": "stream",
     "text": [
      "{'errors': False,\n",
      " 'items': [{'index': {'_id': '1',\n",
      "                      '_index': 'products',\n",
      "                      '_primary_term': 1,\n",
      "                      '_seq_no': 0,\n",
      "                      '_shards': {'failed': 0, 'successful': 1, 'total': 2},\n",
      "                      '_version': 1,\n",
      "                      'result': 'created',\n",
      "                      'status': 201}},\n",
      "           {'index': {'_id': '2',\n",
      "                      '_index': 'products',\n",
      "                      '_primary_term': 1,\n",
      "                      '_seq_no': 1,\n",
      "                      '_shards': {'failed': 0, 'successful': 1, 'total': 2},\n",
      "                      '_version': 1,\n",
      "                      'result': 'created',\n",
      "                      'status': 201}},\n",
      "           {'index': {'_id': '3',\n",
      "                      '_index': 'products',\n",
      "                      '_primary_term': 1,\n",
      "                      '_seq_no': 2,\n",
      "                      '_shards': {'failed': 0, 'successful': 1, 'total': 2},\n",
      "                      '_version': 1,\n",
      "                      'result': 'created',\n",
      "                      'status': 201}},\n",
      "           {'update': {'_id': '1',\n",
      "                       '_index': 'products',\n",
      "                       '_primary_term': 1,\n",
      "                       '_seq_no': 3,\n",
      "                       '_shards': {'failed': 0, 'successful': 1, 'total': 2},\n",
      "                       '_version': 2,\n",
      "                       'result': 'updated',\n",
      "                       'status': 200}},\n",
      "           {'update': {'_id': '2',\n",
      "                       '_index': 'products',\n",
      "                       '_primary_term': 1,\n",
      "                       '_seq_no': 4,\n",
      "                       '_shards': {'failed': 0, 'successful': 1, 'total': 2},\n",
      "                       '_version': 2,\n",
      "                       'result': 'updated',\n",
      "                       'status': 200}},\n",
      "           {'delete': {'_id': '3',\n",
      "                       '_index': 'products',\n",
      "                       '_primary_term': 1,\n",
      "                       '_seq_no': 5,\n",
      "                       '_shards': {'failed': 0, 'successful': 1, 'total': 2},\n",
      "                       '_version': 2,\n",
      "                       'result': 'deleted',\n",
      "                       'status': 200}}],\n",
      " 'took': 200}\n",
      "False\n"
     ]
    }
   ],
   "source": [
    "# bulk api \n",
    "\n",
    "response = es.bulk(\n",
    "    operations=[\n",
    "        #action 1 \n",
    "        {\n",
    "            \"index\": {\n",
    "                \"_index\": \"products\",\n",
    "                \"_id\": \"1\"\n",
    "            }\n",
    "        },\n",
    "        # source 1 \n",
    "        {\n",
    "            \"title\": \"Sample Title 1\",\n",
    "            \"text\": \"This is the first sample document text\",\n",
    "            \"created_on\": \"2024_09_22\"\n",
    "        },\n",
    "        #action 2 \n",
    "        {\n",
    "            \"index\": {\n",
    "                \"_index\": \"products\",\n",
    "                \"_id\": \"2\"\n",
    "            }\n",
    "        },\n",
    "        # source 2 \n",
    "        {\n",
    "            \"title\": \"Sample Title 2\",\n",
    "            \"text\": \"Here is another example of document text\",\n",
    "            \"created_on\": \"2024_09_24\"\n",
    "        },\n",
    "        #action 3 \n",
    "        {\n",
    "            \"index\": {\n",
    "                \"_index\": \"products\",\n",
    "                \"_id\": \"3\"\n",
    "            }\n",
    "        },\n",
    "        # source 3 \n",
    "        {\n",
    "            \"title\": \"Sample Title 3\",\n",
    "            \"text\": \"This is the third sample document text\",\n",
    "            \"created_on\": \"2024_09_24\"\n",
    "        },\n",
    "        # action 4 \n",
    "        {\n",
    "            \"update\": {\n",
    "                \"_id\": \"1\",\n",
    "                \"_index\": \"products\"\n",
    "            }\n",
    "        },\n",
    "        #source 4\n",
    "        {\n",
    "            \"doc\": {\n",
    "                \"title\": \"New title\"\n",
    "            }\n",
    "        },\n",
    "        # action 5 \n",
    "        {\n",
    "            \"update\": {\n",
    "                \"_id\": \"2\",\n",
    "                \"_index\": \"products\"\n",
    "            }\n",
    "        },\n",
    "        # Source 5\n",
    "        {\n",
    "            \"doc\": {\n",
    "                \"new_field\": \"dummy_value\"\n",
    "            }\n",
    "        },\n",
    "        # Action 6\n",
    "        {\n",
    "            \"delete\": {\n",
    "                \"_index\": \"products\",\n",
    "                \"_id\": \"3\"\n",
    "            } \n",
    "        },\n",
    "    ],\n",
    ")\n",
    "\n",
    "pprint(response.body)\n",
    "\n",
    "# errors indicates no of errors if any \n",
    "\n",
    "pprint(response['errors'])"
   ]
  },
  {
   "cell_type": "code",
   "execution_count": 11,
   "metadata": {},
   "outputs": [
    {
     "data": {
      "text/plain": [
       "False"
      ]
     },
     "execution_count": 11,
     "metadata": {},
     "output_type": "execute_result"
    }
   ],
   "source": [
    "response['errors']\n",
    "#or \n",
    "response.body['errors']"
   ]
  }
 ],
 "metadata": {
  "kernelspec": {
   "display_name": "python3-elasticsearch",
   "language": "python",
   "name": "python3"
  },
  "language_info": {
   "codemirror_mode": {
    "name": "ipython",
    "version": 3
   },
   "file_extension": ".py",
   "mimetype": "text/x-python",
   "name": "python",
   "nbconvert_exporter": "python",
   "pygments_lexer": "ipython3",
   "version": "3.10.12"
  }
 },
 "nbformat": 4,
 "nbformat_minor": 2
}

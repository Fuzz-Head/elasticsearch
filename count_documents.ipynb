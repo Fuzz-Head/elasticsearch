{
 "cells": [
  {
   "cell_type": "code",
   "execution_count": 1,
   "metadata": {},
   "outputs": [
    {
     "name": "stdout",
     "output_type": "stream",
     "text": [
      "Connected to Elasticsearch!\n",
      "{'cluster_name': 'docker-cluster',\n",
      " 'cluster_uuid': 'tdRTedevS6WZDfd1oEOoeQ',\n",
      " 'name': 'd3f17afee3cf',\n",
      " 'tagline': 'You Know, for Search',\n",
      " 'version': {'build_date': '2025-01-10T10:08:26.972230187Z',\n",
      "             'build_flavor': 'default',\n",
      "             'build_hash': 'd4b391d925c31d262eb767b8b2db8f398103f909',\n",
      "             'build_snapshot': False,\n",
      "             'build_type': 'docker',\n",
      "             'lucene_version': '9.12.0',\n",
      "             'minimum_index_compatibility_version': '7.0.0',\n",
      "             'minimum_wire_compatibility_version': '7.17.0',\n",
      "             'number': '8.17.1'}}\n"
     ]
    }
   ],
   "source": [
    "from pprint import pprint \n",
    "from elasticsearch import Elasticsearch\n",
    "\n",
    "es= Elasticsearch('http://localhost:9200')\n",
    "client_info = es.info()\n",
    "print('Connected to Elasticsearch!')\n",
    "pprint(client_info.body)"
   ]
  },
  {
   "cell_type": "code",
   "execution_count": 2,
   "metadata": {},
   "outputs": [
    {
     "data": {
      "text/plain": [
       "ObjectApiResponse({'acknowledged': True, 'shards_acknowledged': True, 'index': 'products'})"
      ]
     },
     "execution_count": 2,
     "metadata": {},
     "output_type": "execute_result"
    }
   ],
   "source": [
    "\n",
    "es.indices.delete(index='products', ignore_unavailable=True)\n",
    "es.indices.create(index='products')"
   ]
  },
  {
   "cell_type": "code",
   "execution_count": null,
   "metadata": {},
   "outputs": [
    {
     "name": "stderr",
     "output_type": "stream",
     "text": [
      "100%|██████████| 3/3 [00:00<00:00, 37.46it/s]\n"
     ]
    }
   ],
   "source": [
    "import json \n",
    "from tqdm import tqdm \n",
    "\n",
    "document_ids = [] \n",
    "dummy_data = json.load(open(\"data/dummy_data.json\"))\n",
    "for document in tqdm(dummy_data, total=len(dummy_data)):\n",
    "    response = es.index(index='products', body=document)\n",
    "    document_ids.append(response['_id'])"
   ]
  },
  {
   "cell_type": "code",
   "execution_count": 4,
   "metadata": {},
   "outputs": [
    {
     "name": "stdout",
     "output_type": "stream",
     "text": [
      "THe number of documents in the index is 3\n"
     ]
    }
   ],
   "source": [
    "response = es.count(index='products')\n",
    "count = response['count']\n",
    "\n",
    "print(f\"THe number of documents in the index is {count}\")"
   ]
  },
  {
   "cell_type": "code",
   "execution_count": 5,
   "metadata": {},
   "outputs": [
    {
     "name": "stdout",
     "output_type": "stream",
     "text": [
      "THe number of documents in the index is 2\n"
     ]
    }
   ],
   "source": [
    "query = {\n",
    "    \"range\": {\n",
    "        \"created_on\": {\n",
    "            \"gte\": \"2024-09-24\",\n",
    "            \"lte\": \"2024-09-24\",\n",
    "            \"format\": \"yyyy-MM-dd\"\n",
    "        }\n",
    "    }\n",
    "}\n",
    "\n",
    "response = es.count(index='products', query=query)\n",
    "count = response['count']\n",
    "\n",
    "print(f\"THe number of documents in the index is {count}\")"
   ]
  }
 ],
 "metadata": {
  "kernelspec": {
   "display_name": "python3-elasticsearch",
   "language": "python",
   "name": "python3"
  },
  "language_info": {
   "codemirror_mode": {
    "name": "ipython",
    "version": 3
   },
   "file_extension": ".py",
   "mimetype": "text/x-python",
   "name": "python",
   "nbconvert_exporter": "python",
   "pygments_lexer": "ipython3",
   "version": "3.10.12"
  }
 },
 "nbformat": 4,
 "nbformat_minor": 2
}
